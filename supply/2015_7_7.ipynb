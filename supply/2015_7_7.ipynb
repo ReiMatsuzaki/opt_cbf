{
 "cells": [
  {
   "cell_type": "markdown",
   "metadata": {},
   "source": [
    "化学Aの三回目の演習問題の答え合わせ。"
   ]
  },
  {
   "cell_type": "code",
   "execution_count": 1,
   "metadata": {
    "collapsed": false
   },
   "outputs": [
    {
     "ename": "SyntaxError",
     "evalue": "invalid syntax (<ipython-input-1-4e9565c08ebd>, line 10)",
     "output_type": "error",
     "traceback": [
      "\u001b[0;36m  File \u001b[0;32m\"<ipython-input-1-4e9565c08ebd>\"\u001b[0;36m, line \u001b[0;32m10\u001b[0m\n\u001b[0;31m    print(\"b\")s\u001b[0m\n\u001b[0m              ^\u001b[0m\n\u001b[0;31mSyntaxError\u001b[0m\u001b[0;31m:\u001b[0m invalid syntax\n"
     ]
    }
   ],
   "source": [
    "from math import sqrt\n",
    "h=6.63*10**(-34)\n",
    "l1=105*10**(-9)\n",
    "l2=67.6*10**(-9)\n",
    "me=9.11*10**(-31)\n",
    "c=3*10**8\n",
    "\n",
    "def b1_sq(l):\n",
    "    return (3*h*l)/(8*me*c)\n",
    "print(\"b\")s\n",
    "print(b1_sq(l1))\n",
    "print(sqrt(b1_sq(l1)))\n",
    "print(\"a\")\n",
    "print(b1_sq(l2))\n",
    "print(sqrt(b1_sq(l2)))"
   ]
  },
  {
   "cell_type": "markdown",
   "metadata": {},
   "source": [
    "#  2015/7/7"
   ]
  },
  {
   "cell_type": "markdown",
   "metadata": {},
   "source": [
    "Multi-ET 最適化を行っているのだが、4optで(2et,2et)の計算をcSTOに対して行ったが、うまくいかない。収束はするし、近いところに収束しているが、収束点が少し異なる。"
   ]
  },
  {
   "cell_type": "markdown",
   "metadata": {},
   "source": [
    "まずは、Multi-ETのUnit Testを確認して、STO最適化のunit testも加えることで、徹底的に調査する。"
   ]
  },
  {
   "cell_type": "markdown",
   "metadata": {},
   "source": [
    "unite test を作りながら、より詳しい収束点で計算をスタートさせたら、うまく行った。多少、収束点はずれたけど、概ね大丈夫。\n",
    "つまり、収束半径がものすごく小さいということだろう。（すこしの不安）"
   ]
  }
 ],
 "metadata": {
  "kernelspec": {
   "display_name": "Python 2",
   "language": "python",
   "name": "python2"
  },
  "language_info": {
   "codemirror_mode": {
    "name": "ipython",
    "version": 2
   },
   "file_extension": ".py",
   "mimetype": "text/x-python",
   "name": "python",
   "nbconvert_exporter": "python",
   "pygments_lexer": "ipython2",
   "version": "2.7.6"
  }
 },
 "nbformat": 4,
 "nbformat_minor": 0
}
