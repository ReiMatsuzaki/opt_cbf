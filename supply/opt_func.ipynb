{
 "cells": [
  {
   "cell_type": "markdown",
   "metadata": {},
   "source": [
    "# Note"
   ]
  },
  {
   "cell_type": "markdown",
   "metadata": {},
   "source": [
    "このノートでは、最適化関数のテストを行うための数値を計算する。"
   ]
  },
  {
   "cell_type": "markdown",
   "metadata": {},
   "source": [
    "# Include "
   ]
  },
  {
   "cell_type": "code",
   "execution_count": 2,
   "metadata": {
    "collapsed": false
   },
   "outputs": [],
   "source": [
    "from sympy import *"
   ]
  },
  {
   "cell_type": "code",
   "execution_count": 3,
   "metadata": {
    "collapsed": false
   },
   "outputs": [
    {
     "name": "stdout",
     "output_type": "stream",
     "text": [
      "IPython console for SymPy 0.7.6 (Python 2.7.6-64-bit) (ground types: python)\n"
     ]
    }
   ],
   "source": [
    "init_session(quiet=True)"
   ]
  },
  {
   "cell_type": "markdown",
   "metadata": {},
   "source": [
    "# Test"
   ]
  },
  {
   "cell_type": "code",
   "execution_count": 15,
   "metadata": {
    "collapsed": false
   },
   "outputs": [
    {
     "data": {
      "image/png": "[encoded data removed]",
      "text/latex": [
       "$$e^{x}$$"
      ],
      "text/plain": [
       " x\n",
       "ℯ "
      ]
     },
     "execution_count": 15,
     "metadata": {},
     "output_type": "execute_result"
    }
   ],
   "source": [
    "x,y,z=symbols(\"x y z\")\n",
    "exp(x)"
   ]
  },
  {
   "cell_type": "code",
   "execution_count": 32,
   "metadata": {
    "collapsed": false
   },
   "outputs": [
    {
     "data": {
      "image/png": "[encoded data removed]",
      "text/latex": [
       "$$13$$"
      ],
      "text/plain": [
       "13"
      ]
     },
     "execution_count": 32,
     "metadata": {},
     "output_type": "execute_result"
    }
   ],
   "source": [
    "expr=2*x+3*y\n",
    "expr.subs({x:2,y:3})"
   ]
  },
  {
   "cell_type": "markdown",
   "metadata": {},
   "source": [
    "# 5 variable function "
   ]
  },
  {
   "cell_type": "markdown",
   "metadata": {},
   "source": [
    "## variables"
   ]
  },
  {
   "cell_type": "code",
   "execution_count": 4,
   "metadata": {
    "collapsed": false
   },
   "outputs": [],
   "source": [
    "x0,x1,x2,x3,x4=symbols(\"x0 x1 x2 x3 x4\")"
   ]
  },
  {
   "cell_type": "code",
   "execution_count": 5,
   "metadata": {
    "collapsed": true
   },
   "outputs": [],
   "source": [
    "a,r,b,s=symbols(\"a r b s\")"
   ]
  },
  {
   "cell_type": "code",
   "execution_count": 28,
   "metadata": {
    "collapsed": false
   },
   "outputs": [],
   "source": [
    "rep0={x0:1,x1:2,x2:2,x3:6,x4:18}\n",
    "rep1={a:1,r:2,b:2,s:3}"
   ]
  },
  {
   "cell_type": "markdown",
   "metadata": {},
   "source": [
    "## non restricted"
   ]
  },
  {
   "cell_type": "code",
   "execution_count": 6,
   "metadata": {
    "collapsed": true
   },
   "outputs": [],
   "source": [
    "func5=(x0-1)**2+(x1-2)**2+(x2-x3)**2+(x3-3)**2+x4**2"
   ]
  },
  {
   "cell_type": "code",
   "execution_count": 7,
   "metadata": {
    "collapsed": false
   },
   "outputs": [
    {
     "data": {
      "image/png": "[encoded data removed]",
      "text/latex": [
       "$$x_{4}^{2} + \\left(x_{0} - 1\\right)^{2} + \\left(x_{1} - 2\\right)^{2} + \\left(x_{2} - x_{3}\\right)^{2} + \\left(x_{3} - 3\\right)^{2}$$"
      ],
      "text/plain": [
       "  2           2           2            2           2\n",
       "x₄  + (x₀ - 1)  + (x₁ - 2)  + (x₂ - x₃)  + (x₃ - 3) "
      ]
     },
     "execution_count": 7,
     "metadata": {},
     "output_type": "execute_result"
    }
   ],
   "source": [
    "func5"
   ]
  },
  {
   "cell_type": "markdown",
   "metadata": {},
   "source": [
    "最小点は、(1,2,3,3,0)となる。"
   ]
  },
  {
   "cell_type": "markdown",
   "metadata": {},
   "source": [
    "## grad "
   ]
  },
  {
   "cell_type": "code",
   "execution_count": 20,
   "metadata": {
    "collapsed": false
   },
   "outputs": [
    {
     "data": {
      "image/png": "[encoded data removed]",
      "text/latex": [
       "$$\\left [ 0, \\quad 0, \\quad -2, \\quad 4, \\quad 10\\right ]$$"
      ],
      "text/plain": [
       "[0, 0, -2, 4, 10]"
      ]
     },
     "execution_count": 20,
     "metadata": {},
     "output_type": "execute_result"
    }
   ],
   "source": [
    "xs=[x0,x1,x2,x3,x4]\n",
    "[diff(func5,x).subs(rep0) for x in xs]"
   ]
  },
  {
   "cell_type": "code",
   "execution_count": 30,
   "metadata": {
    "collapsed": false
   },
   "outputs": [
    {
     "data": {
      "image/png": "[encoded data removed]",
      "text/latex": [
       "$$\\left [ 0, \\quad 0, \\quad 358, \\quad 460\\right ]$$"
      ],
      "text/plain": [
       "[0, 0, 358, 460]"
      ]
     },
     "execution_count": 30,
     "metadata": {},
     "output_type": "execute_result"
    }
   ],
   "source": [
    "rs=[a,r,b,s]\n",
    "[diff(funcRest,a).subs(rep1) for a in rs]"
   ]
  },
  {
   "cell_type": "markdown",
   "metadata": {},
   "source": [
    "##  hess"
   ]
  },
  {
   "cell_type": "code",
   "execution_count": 26,
   "metadata": {
    "collapsed": false
   },
   "outputs": [
    {
     "data": {
      "image/png": "[encoded data removed]",
      "text/latex": [
       "$$\\left [ \\left [ 2, \\quad 0, \\quad 0, \\quad 0, \\quad 0\\right ], \\quad \\left [ 0, \\quad 2, \\quad 0, \\quad 0, \\quad 0\\right ], \\quad \\left [ 0, \\quad 0, \\quad 2, \\quad -2, \\quad 0\\right ], \\quad \\left [ 0, \\quad 0, \\quad -2, \\quad 4, \\quad 0\\right ], \\quad \\left [ 0, \\quad 0, \\quad 0, \\quad 0, \\quad 2\\right ]\\right ]$$"
      ],
      "text/plain": [
       "[[2, 0, 0, 0, 0], [0, 2, 0, 0, 0], [0, 0, 2, -2, 0], [0, 0, -2, 4, 0], [0, 0, \n",
       "0, 0, 2]]"
      ]
     },
     "execution_count": 26,
     "metadata": {},
     "output_type": "execute_result"
    }
   ],
   "source": [
    "[[diff(func5,x,y) for x in xs] for y in xs]"
   ]
  },
  {
   "cell_type": "code",
   "execution_count": 31,
   "metadata": {
    "collapsed": false
   },
   "outputs": [
    {
     "data": {
      "image/png": "[encoded data removed]",
      "text/latex": [
       "$$\\left [ \\left [ 10, \\quad 4, \\quad 0, \\quad 0\\right ], \\quad \\left [ 4, \\quad 2, \\quad 0, \\quad 0\\right ], \\quad \\left [ 0, \\quad 0, \\quad 188, \\quad 466\\right ], \\quad \\left [ 0, \\quad 0, \\quad 466, \\quad 448\\right ]\\right ]$$"
      ],
      "text/plain": [
       "[[10, 4, 0, 0], [4, 2, 0, 0], [0, 0, 188, 466], [0, 0, 466, 448]]"
      ]
     },
     "execution_count": 31,
     "metadata": {},
     "output_type": "execute_result"
    }
   ],
   "source": [
    "[[diff(funcRest,a,b).subs(rep1) for a in rs] for b in rs]"
   ]
  },
  {
   "cell_type": "markdown",
   "metadata": {},
   "source": [
    "### Restricted"
   ]
  },
  {
   "cell_type": "code",
   "execution_count": 10,
   "metadata": {
    "collapsed": false
   },
   "outputs": [
    {
     "data": {
      "image/png": "[encoded data removed]",
      "text/latex": [
       "$$b^{2} s^{4} + \\left(a - 1\\right)^{2} + \\left(a r - 2\\right)^{2} + \\left(- b s + b\\right)^{2} + \\left(b s - 3\\right)^{2}$$"
      ],
      "text/plain": [
       " 2  4          2            2             2            2\n",
       "b ⋅s  + (a - 1)  + (a⋅r - 2)  + (-b⋅s + b)  + (b⋅s - 3) "
      ]
     },
     "execution_count": 10,
     "metadata": {},
     "output_type": "execute_result"
    }
   ],
   "source": [
    "funcRest=func5.subs({x0:a,x1:a*r,x2:b,x3:b*s,x4:b*s*s})\n",
    "funcRest"
   ]
  },
  {
   "cell_type": "code",
   "execution_count": 13,
   "metadata": {
    "collapsed": false
   },
   "outputs": [
    {
     "data": {
      "text/plain": [
       "matrix(\n",
       "[['1.0'],\n",
       " ['2.0']])"
      ]
     },
     "execution_count": 13,
     "metadata": {},
     "output_type": "execute_result"
    }
   ],
   "source": [
    "vars=[a,r]\n",
    "grad=[diff(funcRest,x) for x in vars]\n",
    "nsolve(grad,vars,(1,1))"
   ]
  },
  {
   "cell_type": "code",
   "execution_count": 14,
   "metadata": {
    "collapsed": false
   },
   "outputs": [
    {
     "data": {
      "text/plain": [
       "matrix(\n",
       "[['2.48028369537265'],\n",
       " ['0.724491959000516']])"
      ]
     },
     "execution_count": 14,
     "metadata": {},
     "output_type": "execute_result"
    }
   ],
   "source": [
    "vars=[b,s]\n",
    "grad=[diff(funcRest,x) for x in vars]\n",
    "nsolve(grad,vars,(1,1))"
   ]
  },
  {
   "cell_type": "markdown",
   "metadata": {},
   "source": [
    "最小点は、(1,2,2.48,0.725)となる。"
   ]
  }
 ],
 "metadata": {
  "kernelspec": {
   "display_name": "Python 2",
   "language": "python",
   "name": "python2"
  },
  "language_info": {
   "codemirror_mode": {
    "name": "ipython",
    "version": 2
   },
   "file_extension": ".py",
   "mimetype": "text/x-python",
   "name": "python",
   "nbconvert_exporter": "python",
   "pygments_lexer": "ipython2",
   "version": "2.7.6"
  }
 },
 "nbformat": 4,
 "nbformat_minor": 0
}
