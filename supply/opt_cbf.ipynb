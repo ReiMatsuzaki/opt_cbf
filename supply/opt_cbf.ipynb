{
 "cells": [
  {
   "cell_type": "markdown",
   "metadata": {},
   "source": [
    "# Note"
   ]
  },
  {
   "cell_type": "markdown",
   "metadata": {
    "collapsed": false
   },
   "source": [
    "multi-ET-STO/GTOの最適化の練習として、5opt-cSTOの軌道指数を参考に最適化のinit guessを作る。"
   ]
  },
  {
   "cell_type": "markdown",
   "metadata": {},
   "source": [
    "# Include"
   ]
  },
  {
   "cell_type": "code",
   "execution_count": null,
   "metadata": {
    "collapsed": true
   },
   "outputs": [],
   "source": []
  },
  {
   "cell_type": "markdown",
   "metadata": {},
   "source": [
    "# Calculation"
   ]
  },
  {
   "cell_type": "markdown",
   "metadata": {},
   "source": [
    "データは ${opt_cbf}/samples/5sto/sample.out からとってきた"
   ]
  },
  {
   "cell_type": "code",
   "execution_count": 30,
   "metadata": {
    "collapsed": true
   },
   "outputs": [],
   "source": [
    "zs4=[\n",
    "complex(0.992828,-0.00370088),\n",
    "complex(0.987316,-0.417238),\n",
    "complex(0.670764,-0.912606),\n",
    "complex(0.207802,-1.08305)]"
   ]
  },
  {
   "cell_type": "code",
   "execution_count": 32,
   "metadata": {
    "collapsed": false
   },
   "outputs": [
    {
     "data": {
      "text/plain": [
       "[(0.9960008804285743-0.41653934041106766j),\n",
       " (0.9078663907455836-0.5406674690353385j),\n",
       " (0.8791758959357688-0.41849115682064325j)]"
      ]
     },
     "execution_count": 32,
     "metadata": {},
     "output_type": "execute_result"
    }
   ],
   "source": [
    "[zs4[i+1]/zs4[i] for i in range(3)]"
   ]
  },
  {
   "cell_type": "code",
   "execution_count": 25,
   "metadata": {
    "collapsed": false
   },
   "outputs": [],
   "source": [
    "zs=[\n",
    "complex(0.996575,-0.0013743),\n",
    "complex(1.00304,-0.283673),\n",
    "complex(0.846293,-0.695269),\n",
    "complex(0.481805,-1.00239),\n",
    "complex(0.141209,-1.06628)]"
   ]
  },
  {
   "cell_type": "code",
   "execution_count": 29,
   "metadata": {
    "collapsed": false
   },
   "outputs": [
    {
     "data": {
      "text/plain": [
       "[(1.0068778400109433-0.28325941126806614j),\n",
       " (0.9627587494460456-0.4208808594556467j),\n",
       " (0.9208643915850648-0.4279150782613626j),\n",
       " (0.9191071245597946-0.3009022517668091j)]"
      ]
     },
     "execution_count": 29,
     "metadata": {},
     "output_type": "execute_result"
    }
   ],
   "source": [
    "[zs[i+1]/zs[i] for i in range(4)]"
   ]
  }
 ],
 "metadata": {
  "kernelspec": {
   "display_name": "Python 2",
   "language": "python",
   "name": "python2"
  },
  "language_info": {
   "codemirror_mode": {
    "name": "ipython",
    "version": 2
   },
   "file_extension": ".py",
   "mimetype": "text/x-python",
   "name": "python",
   "nbconvert_exporter": "python",
   "pygments_lexer": "ipython2",
   "version": "2.7.6"
  }
 },
 "nbformat": 4,
 "nbformat_minor": 0
}
